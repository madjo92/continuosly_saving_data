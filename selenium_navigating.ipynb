{
 "cells": [
  {
   "cell_type": "code",
   "execution_count": 5,
   "id": "646ab5a0",
   "metadata": {},
   "outputs": [],
   "source": [
    "from selenium import webdriver\n",
    "import requests,time\n",
    "from selenium.webdriver.support.ui import WebDriverWait\n",
    "from selenium.webdriver.support import expected_conditions as ec\n",
    "from selenium.webdriver.common.by import By"
   ]
  },
  {
   "cell_type": "code",
   "execution_count": 21,
   "id": "0998b926",
   "metadata": {},
   "outputs": [
    {
     "name": "stderr",
     "output_type": "stream",
     "text": [
      "<ipython-input-21-4906f96df18b>:2: DeprecationWarning: executable_path has been deprecated, please pass in a Service object\n",
      "  browser = webdriver.Chrome(executable_path=r'C:\\Users\\vikto\\Downloads\\chromedriver_win32\\chromedriver')\n",
      "<ipython-input-21-4906f96df18b>:4: DeprecationWarning: find_element_by_* commands are deprecated. Please use find_element() instead\n",
      "  inputEleement = browser.find_element_by_class_name(\"gLFyf\")\n",
      "<ipython-input-21-4906f96df18b>:11: DeprecationWarning: find_element_by_* commands are deprecated. Please use find_element() instead\n",
      "  element = browser.find_element_by_xpath('//*[@id=\"rso\"]/div[1]/div/div/table/tbody/tr[3]/td/div/h3/a')\n"
     ]
    }
   ],
   "source": [
    "#opening google and google 'Yahoo Finance'\n",
    "url = \"https://www.google.com/\"\n",
    "browser = webdriver.Chrome(executable_path=r'C:\\Users\\vikto\\Downloads\\chromedriver_win32\\chromedriver')\n",
    "browser.get(url)\n",
    "inputEleement = browser.find_element_by_class_name(\"gLFyf\")\n",
    "inputEleement.send_keys(\"Yahoo Finance\")\n",
    "inputEleement.submit()\n",
    "#changing the language to english\n",
    "#element = browser.find_element_by_xpath('//*[@id=\"Rzn5id\"]/div/a[2]')\n",
    "#element.click()\n",
    "element = WebDriverWait(browser,10).until(ec.visibility_of_element_located((By.XPATH, '//*[@id=\"Rzn5id\"]/div/a[2]'))).click()\n",
    "# opening some link \n",
    "element = browser.find_element_by_xpath('//*[@id=\"rso\"]/div[1]/div/div/table/tbody/tr[3]/td/div/h3/a')\n",
    "element.click() \n",
    "\n"
   ]
  },
  {
   "cell_type": "code",
   "execution_count": null,
   "id": "4f66f1cf",
   "metadata": {},
   "outputs": [],
   "source": [
    "\n"
   ]
  }
 ],
 "metadata": {
  "kernelspec": {
   "display_name": "Python 3",
   "language": "python",
   "name": "python3"
  },
  "language_info": {
   "codemirror_mode": {
    "name": "ipython",
    "version": 3
   },
   "file_extension": ".py",
   "mimetype": "text/x-python",
   "name": "python",
   "nbconvert_exporter": "python",
   "pygments_lexer": "ipython3",
   "version": "3.8.8"
  }
 },
 "nbformat": 4,
 "nbformat_minor": 5
}
